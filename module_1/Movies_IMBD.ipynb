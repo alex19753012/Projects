{
 "cells": [
  {
   "cell_type": "code",
   "execution_count": 1,
   "metadata": {
    "_cell_guid": "b1076dfc-b9ad-4769-8c92-a6c4dae69d19",
    "_uuid": "8f2839f25d086af736a60e9eeb907d3b93b6e0e5",
    "colab": {},
    "colab_type": "code",
    "id": "U2D2gTdJVp90"
   },
   "outputs": [],
   "source": [
    "import numpy as np\n",
    "import pandas as pd\n",
    "import seaborn as sns\n",
    "import matplotlib.pyplot as plt\n",
    "from collections import Counter"
   ]
  },
  {
   "cell_type": "code",
   "execution_count": 191,
   "metadata": {
    "_cell_guid": "79c7e3d0-c299-4dcb-8224-4455121ee9b0",
    "_uuid": "d629ff2d2480ee46fbb7e2d37f6b5fab8052498a",
    "colab": {},
    "colab_type": "code",
    "id": "oyGfxL3eVp9-"
   },
   "outputs": [],
   "source": [
    "data = pd.read_csv('movie_bd_v5.csv')"
   ]
  },
  {
   "cell_type": "markdown",
   "metadata": {
    "colab_type": "text",
    "id": "DTIt7ezGVp-G"
   },
   "source": [
    "# Предобработка"
   ]
  },
  {
   "cell_type": "code",
   "execution_count": 193,
   "metadata": {
    "colab": {},
    "colab_type": "code",
    "id": "jNb40DwKVp-H"
   },
   "outputs": [],
   "source": [
    "answers = {} # создадим словарь для ответов\n",
    "\n",
    "# добавим в датасет новую колонку в которой будет отражаться информация о прибыли\n",
    "data['profit'] = data.revenue - data.budget\n",
    "#the time given in the dataset is in string format.\n",
    "#So we need to change this in datetime format\n",
    "# ..."
   ]
  },
  {
   "cell_type": "markdown",
   "metadata": {
    "colab_type": "text",
    "id": "YxZaH-nPVp-L"
   },
   "source": [
    "# 1. У какого фильма из списка самый большой бюджет?"
   ]
  },
  {
   "cell_type": "markdown",
   "metadata": {
    "colab_type": "text",
    "id": "Nd-G5gX6Vp-M"
   },
   "source": [
    "Использовать варианты ответов в коде решения запрещено.    \n",
    "Вы думаете и в жизни у вас будут варианты ответов?)"
   ]
  },
  {
   "cell_type": "code",
   "execution_count": 31,
   "metadata": {
    "colab": {},
    "colab_type": "code",
    "id": "dZwb3m28Vp-S"
   },
   "outputs": [
    {
     "data": {
      "text/html": [
       "<div>\n",
       "<style scoped>\n",
       "    .dataframe tbody tr th:only-of-type {\n",
       "        vertical-align: middle;\n",
       "    }\n",
       "\n",
       "    .dataframe tbody tr th {\n",
       "        vertical-align: top;\n",
       "    }\n",
       "\n",
       "    .dataframe thead th {\n",
       "        text-align: right;\n",
       "    }\n",
       "</style>\n",
       "<table border=\"1\" class=\"dataframe\">\n",
       "  <thead>\n",
       "    <tr style=\"text-align: right;\">\n",
       "      <th></th>\n",
       "      <th>imdb_id</th>\n",
       "      <th>budget</th>\n",
       "      <th>revenue</th>\n",
       "      <th>original_title</th>\n",
       "      <th>cast</th>\n",
       "      <th>director</th>\n",
       "      <th>tagline</th>\n",
       "      <th>overview</th>\n",
       "      <th>runtime</th>\n",
       "      <th>genres</th>\n",
       "      <th>production_companies</th>\n",
       "      <th>release_date</th>\n",
       "      <th>vote_average</th>\n",
       "      <th>release_year</th>\n",
       "      <th>profit</th>\n",
       "    </tr>\n",
       "  </thead>\n",
       "  <tbody>\n",
       "    <tr>\n",
       "      <th>723</th>\n",
       "      <td>tt1298650</td>\n",
       "      <td>380000000</td>\n",
       "      <td>1021683000</td>\n",
       "      <td>Pirates of the Caribbean: On Stranger Tides</td>\n",
       "      <td>Johnny Depp|PenÃ©lope Cruz|Geoffrey Rush|Ian M...</td>\n",
       "      <td>Rob Marshall</td>\n",
       "      <td>Live Forever Or Die Trying.</td>\n",
       "      <td>Captain Jack Sparrow crosses paths with a woma...</td>\n",
       "      <td>136</td>\n",
       "      <td>Adventure|Action|Fantasy</td>\n",
       "      <td>Walt Disney Pictures|Jerry Bruckheimer Films|M...</td>\n",
       "      <td>5/11/2011</td>\n",
       "      <td>6.3</td>\n",
       "      <td>2011</td>\n",
       "      <td>641683000</td>\n",
       "    </tr>\n",
       "  </tbody>\n",
       "</table>\n",
       "</div>"
      ],
      "text/plain": [
       "       imdb_id     budget     revenue  \\\n",
       "723  tt1298650  380000000  1021683000   \n",
       "\n",
       "                                  original_title  \\\n",
       "723  Pirates of the Caribbean: On Stranger Tides   \n",
       "\n",
       "                                                  cast      director  \\\n",
       "723  Johnny Depp|PenÃ©lope Cruz|Geoffrey Rush|Ian M...  Rob Marshall   \n",
       "\n",
       "                         tagline  \\\n",
       "723  Live Forever Or Die Trying.   \n",
       "\n",
       "                                              overview  runtime  \\\n",
       "723  Captain Jack Sparrow crosses paths with a woma...      136   \n",
       "\n",
       "                       genres  \\\n",
       "723  Adventure|Action|Fantasy   \n",
       "\n",
       "                                  production_companies release_date  \\\n",
       "723  Walt Disney Pictures|Jerry Bruckheimer Films|M...    5/11/2011   \n",
       "\n",
       "     vote_average  release_year     profit  \n",
       "723           6.3          2011  641683000  "
      ]
     },
     "metadata": {},
     "output_type": "display_data"
    }
   ],
   "source": [
    "#вывод на экран строки датасета в которой бюджет максимален\n",
    "display(data[data.budget == data.budget.max()])"
   ]
  },
  {
   "cell_type": "markdown",
   "metadata": {
    "colab_type": "text",
    "id": "K7L3nbRXVp-X"
   },
   "source": [
    "ВАРИАНТ 2"
   ]
  },
  {
   "cell_type": "code",
   "execution_count": 32,
   "metadata": {
    "colab": {},
    "colab_type": "code",
    "id": "OGaoQI7rVp-X",
    "scrolled": true
   },
   "outputs": [
    {
     "data": {
      "text/html": [
       "<div>\n",
       "<style scoped>\n",
       "    .dataframe tbody tr th:only-of-type {\n",
       "        vertical-align: middle;\n",
       "    }\n",
       "\n",
       "    .dataframe tbody tr th {\n",
       "        vertical-align: top;\n",
       "    }\n",
       "\n",
       "    .dataframe thead th {\n",
       "        text-align: right;\n",
       "    }\n",
       "</style>\n",
       "<table border=\"1\" class=\"dataframe\">\n",
       "  <thead>\n",
       "    <tr style=\"text-align: right;\">\n",
       "      <th></th>\n",
       "      <th>imdb_id</th>\n",
       "      <th>budget</th>\n",
       "      <th>revenue</th>\n",
       "      <th>original_title</th>\n",
       "      <th>cast</th>\n",
       "      <th>director</th>\n",
       "      <th>tagline</th>\n",
       "      <th>overview</th>\n",
       "      <th>runtime</th>\n",
       "      <th>genres</th>\n",
       "      <th>production_companies</th>\n",
       "      <th>release_date</th>\n",
       "      <th>vote_average</th>\n",
       "      <th>release_year</th>\n",
       "      <th>profit</th>\n",
       "    </tr>\n",
       "  </thead>\n",
       "  <tbody>\n",
       "    <tr>\n",
       "      <th>723</th>\n",
       "      <td>tt1298650</td>\n",
       "      <td>380000000</td>\n",
       "      <td>1021683000</td>\n",
       "      <td>Pirates of the Caribbean: On Stranger Tides</td>\n",
       "      <td>Johnny Depp|PenÃ©lope Cruz|Geoffrey Rush|Ian M...</td>\n",
       "      <td>Rob Marshall</td>\n",
       "      <td>Live Forever Or Die Trying.</td>\n",
       "      <td>Captain Jack Sparrow crosses paths with a woma...</td>\n",
       "      <td>136</td>\n",
       "      <td>Adventure|Action|Fantasy</td>\n",
       "      <td>Walt Disney Pictures|Jerry Bruckheimer Films|M...</td>\n",
       "      <td>5/11/2011</td>\n",
       "      <td>6.3</td>\n",
       "      <td>2011</td>\n",
       "      <td>641683000</td>\n",
       "    </tr>\n",
       "    <tr>\n",
       "      <th>1669</th>\n",
       "      <td>tt0449088</td>\n",
       "      <td>300000000</td>\n",
       "      <td>961000000</td>\n",
       "      <td>Pirates of the Caribbean: At World's End</td>\n",
       "      <td>Johnny Depp|Orlando Bloom|Keira Knightley|Geof...</td>\n",
       "      <td>Gore Verbinski</td>\n",
       "      <td>At the end of the world, the adventure begins.</td>\n",
       "      <td>Captain Barbossa, long believed to be dead, ha...</td>\n",
       "      <td>169</td>\n",
       "      <td>Adventure|Fantasy|Action</td>\n",
       "      <td>Walt Disney Pictures|Jerry Bruckheimer Films|S...</td>\n",
       "      <td>5/19/2007</td>\n",
       "      <td>6.8</td>\n",
       "      <td>2007</td>\n",
       "      <td>661000000</td>\n",
       "    </tr>\n",
       "    <tr>\n",
       "      <th>14</th>\n",
       "      <td>tt2395427</td>\n",
       "      <td>280000000</td>\n",
       "      <td>1405035767</td>\n",
       "      <td>Avengers: Age of Ultron</td>\n",
       "      <td>Robert Downey Jr.|Chris Hemsworth|Mark Ruffalo...</td>\n",
       "      <td>Joss Whedon</td>\n",
       "      <td>A New Age Has Come.</td>\n",
       "      <td>When Tony Stark tries to jumpstart a dormant p...</td>\n",
       "      <td>141</td>\n",
       "      <td>Action|Adventure|Science Fiction</td>\n",
       "      <td>Marvel Studios|Prime Focus|Revolution Sun Studios</td>\n",
       "      <td>4/22/2015</td>\n",
       "      <td>7.4</td>\n",
       "      <td>2015</td>\n",
       "      <td>1125035767</td>\n",
       "    </tr>\n",
       "    <tr>\n",
       "      <th>1014</th>\n",
       "      <td>tt0401729</td>\n",
       "      <td>260000000</td>\n",
       "      <td>284139100</td>\n",
       "      <td>John Carter</td>\n",
       "      <td>Taylor Kitsch|Lynn Collins|Mark Strong|Willem ...</td>\n",
       "      <td>Andrew Stanton</td>\n",
       "      <td>Lost in Our World. Found in Another.</td>\n",
       "      <td>Civil War vet John Carter is transplanted to M...</td>\n",
       "      <td>132</td>\n",
       "      <td>Action|Adventure|Fantasy|Science Fiction</td>\n",
       "      <td>Walt Disney Pictures</td>\n",
       "      <td>3/7/2012</td>\n",
       "      <td>6.0</td>\n",
       "      <td>2012</td>\n",
       "      <td>24139100</td>\n",
       "    </tr>\n",
       "    <tr>\n",
       "      <th>380</th>\n",
       "      <td>tt0398286</td>\n",
       "      <td>260000000</td>\n",
       "      <td>591794936</td>\n",
       "      <td>Tangled</td>\n",
       "      <td>Zachary Levi|Mandy Moore|Donna Murphy|Ron Perl...</td>\n",
       "      <td>Nathan Greno|Byron Howard</td>\n",
       "      <td>They're taking adventure to new lengths.</td>\n",
       "      <td>When the kingdom's most wanted-and most charmi...</td>\n",
       "      <td>100</td>\n",
       "      <td>Animation|Family</td>\n",
       "      <td>Walt Disney Pictures|Walt Disney Animation Stu...</td>\n",
       "      <td>11/24/2010</td>\n",
       "      <td>7.3</td>\n",
       "      <td>2010</td>\n",
       "      <td>331794936</td>\n",
       "    </tr>\n",
       "  </tbody>\n",
       "</table>\n",
       "</div>"
      ],
      "text/plain": [
       "        imdb_id     budget     revenue  \\\n",
       "723   tt1298650  380000000  1021683000   \n",
       "1669  tt0449088  300000000   961000000   \n",
       "14    tt2395427  280000000  1405035767   \n",
       "1014  tt0401729  260000000   284139100   \n",
       "380   tt0398286  260000000   591794936   \n",
       "\n",
       "                                   original_title  \\\n",
       "723   Pirates of the Caribbean: On Stranger Tides   \n",
       "1669     Pirates of the Caribbean: At World's End   \n",
       "14                        Avengers: Age of Ultron   \n",
       "1014                                  John Carter   \n",
       "380                                       Tangled   \n",
       "\n",
       "                                                   cast  \\\n",
       "723   Johnny Depp|PenÃ©lope Cruz|Geoffrey Rush|Ian M...   \n",
       "1669  Johnny Depp|Orlando Bloom|Keira Knightley|Geof...   \n",
       "14    Robert Downey Jr.|Chris Hemsworth|Mark Ruffalo...   \n",
       "1014  Taylor Kitsch|Lynn Collins|Mark Strong|Willem ...   \n",
       "380   Zachary Levi|Mandy Moore|Donna Murphy|Ron Perl...   \n",
       "\n",
       "                       director  \\\n",
       "723                Rob Marshall   \n",
       "1669             Gore Verbinski   \n",
       "14                  Joss Whedon   \n",
       "1014             Andrew Stanton   \n",
       "380   Nathan Greno|Byron Howard   \n",
       "\n",
       "                                             tagline  \\\n",
       "723                      Live Forever Or Die Trying.   \n",
       "1669  At the end of the world, the adventure begins.   \n",
       "14                               A New Age Has Come.   \n",
       "1014            Lost in Our World. Found in Another.   \n",
       "380         They're taking adventure to new lengths.   \n",
       "\n",
       "                                               overview  runtime  \\\n",
       "723   Captain Jack Sparrow crosses paths with a woma...      136   \n",
       "1669  Captain Barbossa, long believed to be dead, ha...      169   \n",
       "14    When Tony Stark tries to jumpstart a dormant p...      141   \n",
       "1014  Civil War vet John Carter is transplanted to M...      132   \n",
       "380   When the kingdom's most wanted-and most charmi...      100   \n",
       "\n",
       "                                        genres  \\\n",
       "723                   Adventure|Action|Fantasy   \n",
       "1669                  Adventure|Fantasy|Action   \n",
       "14            Action|Adventure|Science Fiction   \n",
       "1014  Action|Adventure|Fantasy|Science Fiction   \n",
       "380                           Animation|Family   \n",
       "\n",
       "                                   production_companies release_date  \\\n",
       "723   Walt Disney Pictures|Jerry Bruckheimer Films|M...    5/11/2011   \n",
       "1669  Walt Disney Pictures|Jerry Bruckheimer Films|S...    5/19/2007   \n",
       "14    Marvel Studios|Prime Focus|Revolution Sun Studios    4/22/2015   \n",
       "1014                               Walt Disney Pictures     3/7/2012   \n",
       "380   Walt Disney Pictures|Walt Disney Animation Stu...   11/24/2010   \n",
       "\n",
       "      vote_average  release_year      profit  \n",
       "723            6.3          2011   641683000  \n",
       "1669           6.8          2007   661000000  \n",
       "14             7.4          2015  1125035767  \n",
       "1014           6.0          2012    24139100  \n",
       "380            7.3          2010   331794936  "
      ]
     },
     "metadata": {},
     "output_type": "display_data"
    }
   ],
   "source": [
    "df=data.sort_values(by='budget', ascending=False)\n",
    "display(df.head())"
   ]
  },
  {
   "cell_type": "code",
   "execution_count": 4,
   "metadata": {},
   "outputs": [],
   "source": [
    "answers['1'] = {'1. Pirates of the Caribbean: On Stranger Tides'}"
   ]
  },
  {
   "cell_type": "markdown",
   "metadata": {
    "colab_type": "text",
    "id": "FNRbbI3vVp-c"
   },
   "source": [
    "# 2. Какой из фильмов самый длительный (в минутах)?"
   ]
  },
  {
   "cell_type": "code",
   "execution_count": 27,
   "metadata": {
    "scrolled": true
   },
   "outputs": [
    {
     "data": {
      "text/html": [
       "<div>\n",
       "<style scoped>\n",
       "    .dataframe tbody tr th:only-of-type {\n",
       "        vertical-align: middle;\n",
       "    }\n",
       "\n",
       "    .dataframe tbody tr th {\n",
       "        vertical-align: top;\n",
       "    }\n",
       "\n",
       "    .dataframe thead th {\n",
       "        text-align: right;\n",
       "    }\n",
       "</style>\n",
       "<table border=\"1\" class=\"dataframe\">\n",
       "  <thead>\n",
       "    <tr style=\"text-align: right;\">\n",
       "      <th></th>\n",
       "      <th>imdb_id</th>\n",
       "      <th>budget</th>\n",
       "      <th>revenue</th>\n",
       "      <th>original_title</th>\n",
       "      <th>cast</th>\n",
       "      <th>director</th>\n",
       "      <th>tagline</th>\n",
       "      <th>overview</th>\n",
       "      <th>runtime</th>\n",
       "      <th>genres</th>\n",
       "      <th>production_companies</th>\n",
       "      <th>release_date</th>\n",
       "      <th>vote_average</th>\n",
       "      <th>release_year</th>\n",
       "    </tr>\n",
       "  </thead>\n",
       "  <tbody>\n",
       "    <tr>\n",
       "      <th>1157</th>\n",
       "      <td>tt0279111</td>\n",
       "      <td>56000000</td>\n",
       "      <td>12923936</td>\n",
       "      <td>Gods and Generals</td>\n",
       "      <td>Stephen Lang|Jeff Daniels|Robert Duvall|Kevin ...</td>\n",
       "      <td>Ronald F. Maxwell</td>\n",
       "      <td>The nations heart was touched by...</td>\n",
       "      <td>The film centers mostly around the personal an...</td>\n",
       "      <td>214</td>\n",
       "      <td>Drama|History|War</td>\n",
       "      <td>Turner Pictures|Antietam Filmworks</td>\n",
       "      <td>2/21/2003</td>\n",
       "      <td>5.8</td>\n",
       "      <td>2003</td>\n",
       "    </tr>\n",
       "  </tbody>\n",
       "</table>\n",
       "</div>"
      ],
      "text/plain": [
       "        imdb_id    budget   revenue     original_title  \\\n",
       "1157  tt0279111  56000000  12923936  Gods and Generals   \n",
       "\n",
       "                                                   cast           director  \\\n",
       "1157  Stephen Lang|Jeff Daniels|Robert Duvall|Kevin ...  Ronald F. Maxwell   \n",
       "\n",
       "                                  tagline  \\\n",
       "1157  The nations heart was touched by...   \n",
       "\n",
       "                                               overview  runtime  \\\n",
       "1157  The film centers mostly around the personal an...      214   \n",
       "\n",
       "                 genres                production_companies release_date  \\\n",
       "1157  Drama|History|War  Turner Pictures|Antietam Filmworks    2/21/2003   \n",
       "\n",
       "      vote_average  release_year  \n",
       "1157           5.8          2003  "
      ]
     },
     "metadata": {},
     "output_type": "display_data"
    }
   ],
   "source": [
    "#вывод на экран строки датасета с максимальной продолжительностью фильма\n",
    "display(data[data.runtime == data.runtime.max()])"
   ]
  },
  {
   "cell_type": "code",
   "execution_count": 5,
   "metadata": {},
   "outputs": [],
   "source": [
    "answers['2'] = {'2. Gods and Generals'}"
   ]
  },
  {
   "cell_type": "code",
   "execution_count": 14,
   "metadata": {
    "colab": {},
    "colab_type": "code",
    "id": "ot-VX2XrVp-g",
    "scrolled": true
   },
   "outputs": [
    {
     "data": {
      "text/html": [
       "<div>\n",
       "<style scoped>\n",
       "    .dataframe tbody tr th:only-of-type {\n",
       "        vertical-align: middle;\n",
       "    }\n",
       "\n",
       "    .dataframe tbody tr th {\n",
       "        vertical-align: top;\n",
       "    }\n",
       "\n",
       "    .dataframe thead th {\n",
       "        text-align: right;\n",
       "    }\n",
       "</style>\n",
       "<table border=\"1\" class=\"dataframe\">\n",
       "  <thead>\n",
       "    <tr style=\"text-align: right;\">\n",
       "      <th></th>\n",
       "      <th>imdb_id</th>\n",
       "      <th>budget</th>\n",
       "      <th>revenue</th>\n",
       "      <th>original_title</th>\n",
       "      <th>cast</th>\n",
       "      <th>director</th>\n",
       "      <th>tagline</th>\n",
       "      <th>overview</th>\n",
       "      <th>runtime</th>\n",
       "      <th>genres</th>\n",
       "      <th>production_companies</th>\n",
       "      <th>release_date</th>\n",
       "      <th>vote_average</th>\n",
       "      <th>release_year</th>\n",
       "    </tr>\n",
       "  </thead>\n",
       "  <tbody>\n",
       "    <tr>\n",
       "      <th>1157</th>\n",
       "      <td>tt0279111</td>\n",
       "      <td>56000000</td>\n",
       "      <td>12923936</td>\n",
       "      <td>Gods and Generals</td>\n",
       "      <td>Stephen Lang|Jeff Daniels|Robert Duvall|Kevin ...</td>\n",
       "      <td>Ronald F. Maxwell</td>\n",
       "      <td>The nations heart was touched by...</td>\n",
       "      <td>The film centers mostly around the personal an...</td>\n",
       "      <td>214</td>\n",
       "      <td>Drama|History|War</td>\n",
       "      <td>Turner Pictures|Antietam Filmworks</td>\n",
       "      <td>2/21/2003</td>\n",
       "      <td>5.8</td>\n",
       "      <td>2003</td>\n",
       "    </tr>\n",
       "    <tr>\n",
       "      <th>1081</th>\n",
       "      <td>tt0167260</td>\n",
       "      <td>94000000</td>\n",
       "      <td>1118888979</td>\n",
       "      <td>The Lord of the Rings: The Return of the King</td>\n",
       "      <td>Elijah Wood|Ian McKellen|Viggo Mortensen|Liv T...</td>\n",
       "      <td>Peter Jackson</td>\n",
       "      <td>The eye of the enemy is moving.</td>\n",
       "      <td>Aragorn is revealed as the heir to the ancient...</td>\n",
       "      <td>201</td>\n",
       "      <td>Adventure|Fantasy|Action</td>\n",
       "      <td>WingNut Films|New Line Cinema</td>\n",
       "      <td>12/1/2003</td>\n",
       "      <td>7.9</td>\n",
       "      <td>2003</td>\n",
       "    </tr>\n",
       "    <tr>\n",
       "      <th>1736</th>\n",
       "      <td>tt0462322</td>\n",
       "      <td>67000000</td>\n",
       "      <td>25037897</td>\n",
       "      <td>Grindhouse</td>\n",
       "      <td>Kurt Russell|ZoÃ« Bell|Rosario Dawson|Vanessa ...</td>\n",
       "      <td>Robert Rodriguez|Eli Roth|Quentin Tarantino|Ed...</td>\n",
       "      <td>A double feature that'll tear you in two!</td>\n",
       "      <td>Two full length feature horror movies written ...</td>\n",
       "      <td>191</td>\n",
       "      <td>Thriller|Action|Horror</td>\n",
       "      <td>Big Talk Productions|Yer Dead Productions|Wein...</td>\n",
       "      <td>4/6/2007</td>\n",
       "      <td>6.5</td>\n",
       "      <td>2007</td>\n",
       "    </tr>\n",
       "    <tr>\n",
       "      <th>1336</th>\n",
       "      <td>tt0360717</td>\n",
       "      <td>207000000</td>\n",
       "      <td>550000000</td>\n",
       "      <td>King Kong</td>\n",
       "      <td>Naomi Watts|Jack Black|Adrien Brody|Thomas Kre...</td>\n",
       "      <td>Peter Jackson</td>\n",
       "      <td>The eighth wonder of the world.</td>\n",
       "      <td>In 1933 New York, an overly ambitious movie pr...</td>\n",
       "      <td>187</td>\n",
       "      <td>Adventure|Drama|Action</td>\n",
       "      <td>WingNut Films|Universal Pictures|Big Primate P...</td>\n",
       "      <td>12/14/2005</td>\n",
       "      <td>6.4</td>\n",
       "      <td>2005</td>\n",
       "    </tr>\n",
       "    <tr>\n",
       "      <th>504</th>\n",
       "      <td>tt0213149</td>\n",
       "      <td>140000000</td>\n",
       "      <td>449220945</td>\n",
       "      <td>Pearl Harbor</td>\n",
       "      <td>Ben Affleck|Josh Hartnett|Kate Beckinsale|Cuba...</td>\n",
       "      <td>Michael Bay</td>\n",
       "      <td>December 7, 1941 - A day that shall live in in...</td>\n",
       "      <td>The lifelong friendship between Rafe McCawley ...</td>\n",
       "      <td>183</td>\n",
       "      <td>History|Romance|War</td>\n",
       "      <td>Jerry Bruckheimer Films|Touchstone Pictures</td>\n",
       "      <td>5/21/2001</td>\n",
       "      <td>6.6</td>\n",
       "      <td>2001</td>\n",
       "    </tr>\n",
       "  </tbody>\n",
       "</table>\n",
       "</div>"
      ],
      "text/plain": [
       "        imdb_id     budget     revenue  \\\n",
       "1157  tt0279111   56000000    12923936   \n",
       "1081  tt0167260   94000000  1118888979   \n",
       "1736  tt0462322   67000000    25037897   \n",
       "1336  tt0360717  207000000   550000000   \n",
       "504   tt0213149  140000000   449220945   \n",
       "\n",
       "                                     original_title  \\\n",
       "1157                              Gods and Generals   \n",
       "1081  The Lord of the Rings: The Return of the King   \n",
       "1736                                     Grindhouse   \n",
       "1336                                      King Kong   \n",
       "504                                    Pearl Harbor   \n",
       "\n",
       "                                                   cast  \\\n",
       "1157  Stephen Lang|Jeff Daniels|Robert Duvall|Kevin ...   \n",
       "1081  Elijah Wood|Ian McKellen|Viggo Mortensen|Liv T...   \n",
       "1736  Kurt Russell|ZoÃ« Bell|Rosario Dawson|Vanessa ...   \n",
       "1336  Naomi Watts|Jack Black|Adrien Brody|Thomas Kre...   \n",
       "504   Ben Affleck|Josh Hartnett|Kate Beckinsale|Cuba...   \n",
       "\n",
       "                                               director  \\\n",
       "1157                                  Ronald F. Maxwell   \n",
       "1081                                      Peter Jackson   \n",
       "1736  Robert Rodriguez|Eli Roth|Quentin Tarantino|Ed...   \n",
       "1336                                      Peter Jackson   \n",
       "504                                         Michael Bay   \n",
       "\n",
       "                                                tagline  \\\n",
       "1157                The nations heart was touched by...   \n",
       "1081                    The eye of the enemy is moving.   \n",
       "1736          A double feature that'll tear you in two!   \n",
       "1336                    The eighth wonder of the world.   \n",
       "504   December 7, 1941 - A day that shall live in in...   \n",
       "\n",
       "                                               overview  runtime  \\\n",
       "1157  The film centers mostly around the personal an...      214   \n",
       "1081  Aragorn is revealed as the heir to the ancient...      201   \n",
       "1736  Two full length feature horror movies written ...      191   \n",
       "1336  In 1933 New York, an overly ambitious movie pr...      187   \n",
       "504   The lifelong friendship between Rafe McCawley ...      183   \n",
       "\n",
       "                        genres  \\\n",
       "1157         Drama|History|War   \n",
       "1081  Adventure|Fantasy|Action   \n",
       "1736    Thriller|Action|Horror   \n",
       "1336    Adventure|Drama|Action   \n",
       "504        History|Romance|War   \n",
       "\n",
       "                                   production_companies release_date  \\\n",
       "1157                 Turner Pictures|Antietam Filmworks    2/21/2003   \n",
       "1081                      WingNut Films|New Line Cinema    12/1/2003   \n",
       "1736  Big Talk Productions|Yer Dead Productions|Wein...     4/6/2007   \n",
       "1336  WingNut Films|Universal Pictures|Big Primate P...   12/14/2005   \n",
       "504         Jerry Bruckheimer Films|Touchstone Pictures    5/21/2001   \n",
       "\n",
       "      vote_average  release_year  \n",
       "1157           5.8          2003  \n",
       "1081           7.9          2003  \n",
       "1736           6.5          2007  \n",
       "1336           6.4          2005  \n",
       "504            6.6          2001  "
      ]
     },
     "metadata": {},
     "output_type": "display_data"
    }
   ],
   "source": [
    "df=data.sort_values(by='runtime', ascending=False)\n",
    "display(df.head())"
   ]
  },
  {
   "cell_type": "markdown",
   "metadata": {
    "colab_type": "text",
    "id": "bapLlpW8Vp-k"
   },
   "source": [
    "# 3. Какой из фильмов самый короткий (в минутах)?\n",
    "\n",
    "\n",
    "\n"
   ]
  },
  {
   "cell_type": "code",
   "execution_count": 28,
   "metadata": {
    "scrolled": true
   },
   "outputs": [
    {
     "data": {
      "text/html": [
       "<div>\n",
       "<style scoped>\n",
       "    .dataframe tbody tr th:only-of-type {\n",
       "        vertical-align: middle;\n",
       "    }\n",
       "\n",
       "    .dataframe tbody tr th {\n",
       "        vertical-align: top;\n",
       "    }\n",
       "\n",
       "    .dataframe thead th {\n",
       "        text-align: right;\n",
       "    }\n",
       "</style>\n",
       "<table border=\"1\" class=\"dataframe\">\n",
       "  <thead>\n",
       "    <tr style=\"text-align: right;\">\n",
       "      <th></th>\n",
       "      <th>imdb_id</th>\n",
       "      <th>budget</th>\n",
       "      <th>revenue</th>\n",
       "      <th>original_title</th>\n",
       "      <th>cast</th>\n",
       "      <th>director</th>\n",
       "      <th>tagline</th>\n",
       "      <th>overview</th>\n",
       "      <th>runtime</th>\n",
       "      <th>genres</th>\n",
       "      <th>production_companies</th>\n",
       "      <th>release_date</th>\n",
       "      <th>vote_average</th>\n",
       "      <th>release_year</th>\n",
       "    </tr>\n",
       "  </thead>\n",
       "  <tbody>\n",
       "    <tr>\n",
       "      <th>768</th>\n",
       "      <td>tt1449283</td>\n",
       "      <td>30000000</td>\n",
       "      <td>14460000</td>\n",
       "      <td>Winnie the Pooh</td>\n",
       "      <td>Jim Cummings|Travis Oates|Jim Cummings|Bud Luc...</td>\n",
       "      <td>Stephen Anderson|Don Hall</td>\n",
       "      <td>Oh Pooh.</td>\n",
       "      <td>During an ordinary day in Hundred Acre Wood, W...</td>\n",
       "      <td>63</td>\n",
       "      <td>Animation|Family</td>\n",
       "      <td>Walt Disney Pictures|Walt Disney Animation Stu...</td>\n",
       "      <td>4/13/2011</td>\n",
       "      <td>6.8</td>\n",
       "      <td>2011</td>\n",
       "    </tr>\n",
       "  </tbody>\n",
       "</table>\n",
       "</div>"
      ],
      "text/plain": [
       "       imdb_id    budget   revenue   original_title  \\\n",
       "768  tt1449283  30000000  14460000  Winnie the Pooh   \n",
       "\n",
       "                                                  cast  \\\n",
       "768  Jim Cummings|Travis Oates|Jim Cummings|Bud Luc...   \n",
       "\n",
       "                      director   tagline  \\\n",
       "768  Stephen Anderson|Don Hall  Oh Pooh.   \n",
       "\n",
       "                                              overview  runtime  \\\n",
       "768  During an ordinary day in Hundred Acre Wood, W...       63   \n",
       "\n",
       "               genres                               production_companies  \\\n",
       "768  Animation|Family  Walt Disney Pictures|Walt Disney Animation Stu...   \n",
       "\n",
       "    release_date  vote_average  release_year  \n",
       "768    4/13/2011           6.8          2011  "
      ]
     },
     "metadata": {},
     "output_type": "display_data"
    }
   ],
   "source": [
    "#вывод на экран строки датасета с минимальной продолжительностью фильма\n",
    "display(data[data.runtime == data.runtime.min()])"
   ]
  },
  {
   "cell_type": "code",
   "execution_count": 16,
   "metadata": {
    "colab": {},
    "colab_type": "code",
    "id": "YBxaSHuAVp-l",
    "scrolled": true
   },
   "outputs": [
    {
     "data": {
      "text/html": [
       "<div>\n",
       "<style scoped>\n",
       "    .dataframe tbody tr th:only-of-type {\n",
       "        vertical-align: middle;\n",
       "    }\n",
       "\n",
       "    .dataframe tbody tr th {\n",
       "        vertical-align: top;\n",
       "    }\n",
       "\n",
       "    .dataframe thead th {\n",
       "        text-align: right;\n",
       "    }\n",
       "</style>\n",
       "<table border=\"1\" class=\"dataframe\">\n",
       "  <thead>\n",
       "    <tr style=\"text-align: right;\">\n",
       "      <th></th>\n",
       "      <th>imdb_id</th>\n",
       "      <th>budget</th>\n",
       "      <th>revenue</th>\n",
       "      <th>original_title</th>\n",
       "      <th>cast</th>\n",
       "      <th>director</th>\n",
       "      <th>tagline</th>\n",
       "      <th>overview</th>\n",
       "      <th>runtime</th>\n",
       "      <th>genres</th>\n",
       "      <th>production_companies</th>\n",
       "      <th>release_date</th>\n",
       "      <th>vote_average</th>\n",
       "      <th>release_year</th>\n",
       "    </tr>\n",
       "  </thead>\n",
       "  <tbody>\n",
       "    <tr>\n",
       "      <th>768</th>\n",
       "      <td>tt1449283</td>\n",
       "      <td>30000000</td>\n",
       "      <td>14460000</td>\n",
       "      <td>Winnie the Pooh</td>\n",
       "      <td>Jim Cummings|Travis Oates|Jim Cummings|Bud Luc...</td>\n",
       "      <td>Stephen Anderson|Don Hall</td>\n",
       "      <td>Oh Pooh.</td>\n",
       "      <td>During an ordinary day in Hundred Acre Wood, W...</td>\n",
       "      <td>63</td>\n",
       "      <td>Animation|Family</td>\n",
       "      <td>Walt Disney Pictures|Walt Disney Animation Stu...</td>\n",
       "      <td>4/13/2011</td>\n",
       "      <td>6.8</td>\n",
       "      <td>2011</td>\n",
       "    </tr>\n",
       "    <tr>\n",
       "      <th>930</th>\n",
       "      <td>tt0280030</td>\n",
       "      <td>20000000</td>\n",
       "      <td>109862682</td>\n",
       "      <td>Return to Never Land</td>\n",
       "      <td>Harriet Owen|Blayne Weaver|Jeff Bennett|Kath S...</td>\n",
       "      <td>Robin Budd|Donovan Cook</td>\n",
       "      <td>The Classic Continues</td>\n",
       "      <td>The classic tale of 'Peter Pan' continues in D...</td>\n",
       "      <td>72</td>\n",
       "      <td>Adventure|Fantasy|Animation|Family</td>\n",
       "      <td>Walt Disney Pictures|Walt Disney Television An...</td>\n",
       "      <td>2/14/2002</td>\n",
       "      <td>6.2</td>\n",
       "      <td>2002</td>\n",
       "    </tr>\n",
       "    <tr>\n",
       "      <th>1097</th>\n",
       "      <td>tt0283426</td>\n",
       "      <td>20000000</td>\n",
       "      <td>135680000</td>\n",
       "      <td>The Jungle Book 2</td>\n",
       "      <td>John Goodman|Haley Joel Osment|Mae Whitman|Phi...</td>\n",
       "      <td>Steve Trenbirth</td>\n",
       "      <td>Feel the jungle beat</td>\n",
       "      <td>Mowgli, missing the jungle and his old friends...</td>\n",
       "      <td>72</td>\n",
       "      <td>Family|Animation|Adventure</td>\n",
       "      <td>Walt Disney Pictures|Walt Disney Television An...</td>\n",
       "      <td>2/7/2003</td>\n",
       "      <td>5.6</td>\n",
       "      <td>2003</td>\n",
       "    </tr>\n",
       "    <tr>\n",
       "      <th>1408</th>\n",
       "      <td>tt0361089</td>\n",
       "      <td>35000000</td>\n",
       "      <td>19478106</td>\n",
       "      <td>Valiant</td>\n",
       "      <td>Ewan McGregor|Ricky Gervais|Tim Curry|Jim Broa...</td>\n",
       "      <td>Gary Chapman</td>\n",
       "      <td>Some pigeons eat crumbs, others make history.</td>\n",
       "      <td>The animated comedy tells the story of a lowly...</td>\n",
       "      <td>76</td>\n",
       "      <td>Animation|Family|Adventure</td>\n",
       "      <td>Vanguard Films|Scanbox</td>\n",
       "      <td>3/25/2005</td>\n",
       "      <td>5.3</td>\n",
       "      <td>2005</td>\n",
       "    </tr>\n",
       "    <tr>\n",
       "      <th>1626</th>\n",
       "      <td>tt0299172</td>\n",
       "      <td>110000000</td>\n",
       "      <td>103951461</td>\n",
       "      <td>Home on the Range</td>\n",
       "      <td>Randy Quaid|Steve Buscemi|Judi Dench|Cuba Good...</td>\n",
       "      <td>Will Finn|John Sanford</td>\n",
       "      <td>Bust a Moo.</td>\n",
       "      <td>The Little Piece of Heaven family farm is abou...</td>\n",
       "      <td>76</td>\n",
       "      <td>Western|Animation|Family|Comedy|Music</td>\n",
       "      <td>Walt Disney Pictures|Walt Disney Feature Anima...</td>\n",
       "      <td>4/2/2004</td>\n",
       "      <td>5.8</td>\n",
       "      <td>2004</td>\n",
       "    </tr>\n",
       "  </tbody>\n",
       "</table>\n",
       "</div>"
      ],
      "text/plain": [
       "        imdb_id     budget    revenue        original_title  \\\n",
       "768   tt1449283   30000000   14460000       Winnie the Pooh   \n",
       "930   tt0280030   20000000  109862682  Return to Never Land   \n",
       "1097  tt0283426   20000000  135680000     The Jungle Book 2   \n",
       "1408  tt0361089   35000000   19478106               Valiant   \n",
       "1626  tt0299172  110000000  103951461     Home on the Range   \n",
       "\n",
       "                                                   cast  \\\n",
       "768   Jim Cummings|Travis Oates|Jim Cummings|Bud Luc...   \n",
       "930   Harriet Owen|Blayne Weaver|Jeff Bennett|Kath S...   \n",
       "1097  John Goodman|Haley Joel Osment|Mae Whitman|Phi...   \n",
       "1408  Ewan McGregor|Ricky Gervais|Tim Curry|Jim Broa...   \n",
       "1626  Randy Quaid|Steve Buscemi|Judi Dench|Cuba Good...   \n",
       "\n",
       "                       director  \\\n",
       "768   Stephen Anderson|Don Hall   \n",
       "930     Robin Budd|Donovan Cook   \n",
       "1097            Steve Trenbirth   \n",
       "1408               Gary Chapman   \n",
       "1626     Will Finn|John Sanford   \n",
       "\n",
       "                                            tagline  \\\n",
       "768                                        Oh Pooh.   \n",
       "930                           The Classic Continues   \n",
       "1097                           Feel the jungle beat   \n",
       "1408  Some pigeons eat crumbs, others make history.   \n",
       "1626                                    Bust a Moo.   \n",
       "\n",
       "                                               overview  runtime  \\\n",
       "768   During an ordinary day in Hundred Acre Wood, W...       63   \n",
       "930   The classic tale of 'Peter Pan' continues in D...       72   \n",
       "1097  Mowgli, missing the jungle and his old friends...       72   \n",
       "1408  The animated comedy tells the story of a lowly...       76   \n",
       "1626  The Little Piece of Heaven family farm is abou...       76   \n",
       "\n",
       "                                     genres  \\\n",
       "768                        Animation|Family   \n",
       "930      Adventure|Fantasy|Animation|Family   \n",
       "1097             Family|Animation|Adventure   \n",
       "1408             Animation|Family|Adventure   \n",
       "1626  Western|Animation|Family|Comedy|Music   \n",
       "\n",
       "                                   production_companies release_date  \\\n",
       "768   Walt Disney Pictures|Walt Disney Animation Stu...    4/13/2011   \n",
       "930   Walt Disney Pictures|Walt Disney Television An...    2/14/2002   \n",
       "1097  Walt Disney Pictures|Walt Disney Television An...     2/7/2003   \n",
       "1408                             Vanguard Films|Scanbox    3/25/2005   \n",
       "1626  Walt Disney Pictures|Walt Disney Feature Anima...     4/2/2004   \n",
       "\n",
       "      vote_average  release_year  \n",
       "768            6.8          2011  \n",
       "930            6.2          2002  \n",
       "1097           5.6          2003  \n",
       "1408           5.3          2005  \n",
       "1626           5.8          2004  "
      ]
     },
     "metadata": {},
     "output_type": "display_data"
    }
   ],
   "source": [
    "df=data.sort_values(by='runtime', ascending=True)\n",
    "display(df.head())"
   ]
  },
  {
   "cell_type": "code",
   "execution_count": 6,
   "metadata": {},
   "outputs": [],
   "source": [
    "answers['3'] = {'3. Winnie the Pooh'}"
   ]
  },
  {
   "cell_type": "markdown",
   "metadata": {
    "colab_type": "text",
    "id": "TfQbxbfNVp-p"
   },
   "source": [
    "# 4. Какова средняя длительность фильмов?\n"
   ]
  },
  {
   "cell_type": "code",
   "execution_count": 20,
   "metadata": {
    "colab": {},
    "colab_type": "code",
    "id": "5K6dKZYVVp-q"
   },
   "outputs": [
    {
     "data": {
      "text/plain": [
       "109.6585494970884"
      ]
     },
     "metadata": {},
     "output_type": "display_data"
    }
   ],
   "source": [
    "# использование статистической функции mean()\n",
    "display(data.runtime.mean())"
   ]
  },
  {
   "cell_type": "code",
   "execution_count": 7,
   "metadata": {},
   "outputs": [],
   "source": [
    "answers['4'] = {'4. 110'}"
   ]
  },
  {
   "cell_type": "markdown",
   "metadata": {
    "colab_type": "text",
    "id": "r5TvbnT_Vp-u"
   },
   "source": [
    "# 5. Каково медианное значение длительности фильмов? "
   ]
  },
  {
   "cell_type": "code",
   "execution_count": 29,
   "metadata": {
    "colab": {},
    "colab_type": "code",
    "id": "iBROplKnVp-v"
   },
   "outputs": [
    {
     "data": {
      "text/html": [
       "<div>\n",
       "<style scoped>\n",
       "    .dataframe tbody tr th:only-of-type {\n",
       "        vertical-align: middle;\n",
       "    }\n",
       "\n",
       "    .dataframe tbody tr th {\n",
       "        vertical-align: top;\n",
       "    }\n",
       "\n",
       "    .dataframe thead th {\n",
       "        text-align: right;\n",
       "    }\n",
       "</style>\n",
       "<table border=\"1\" class=\"dataframe\">\n",
       "  <thead>\n",
       "    <tr style=\"text-align: right;\">\n",
       "      <th></th>\n",
       "      <th>budget</th>\n",
       "      <th>revenue</th>\n",
       "      <th>runtime</th>\n",
       "      <th>vote_average</th>\n",
       "      <th>release_year</th>\n",
       "    </tr>\n",
       "  </thead>\n",
       "  <tbody>\n",
       "    <tr>\n",
       "      <th>count</th>\n",
       "      <td>1.889000e+03</td>\n",
       "      <td>1.889000e+03</td>\n",
       "      <td>1889.000000</td>\n",
       "      <td>1889.000000</td>\n",
       "      <td>1889.000000</td>\n",
       "    </tr>\n",
       "    <tr>\n",
       "      <th>mean</th>\n",
       "      <td>5.431083e+07</td>\n",
       "      <td>1.553653e+08</td>\n",
       "      <td>109.658549</td>\n",
       "      <td>6.140762</td>\n",
       "      <td>2007.860773</td>\n",
       "    </tr>\n",
       "    <tr>\n",
       "      <th>std</th>\n",
       "      <td>4.858721e+07</td>\n",
       "      <td>2.146698e+08</td>\n",
       "      <td>18.017041</td>\n",
       "      <td>0.764763</td>\n",
       "      <td>4.468841</td>\n",
       "    </tr>\n",
       "    <tr>\n",
       "      <th>min</th>\n",
       "      <td>5.000000e+06</td>\n",
       "      <td>2.033165e+06</td>\n",
       "      <td>63.000000</td>\n",
       "      <td>3.300000</td>\n",
       "      <td>2000.000000</td>\n",
       "    </tr>\n",
       "    <tr>\n",
       "      <th>25%</th>\n",
       "      <td>2.000000e+07</td>\n",
       "      <td>3.456058e+07</td>\n",
       "      <td>97.000000</td>\n",
       "      <td>5.600000</td>\n",
       "      <td>2004.000000</td>\n",
       "    </tr>\n",
       "    <tr>\n",
       "      <th>50%</th>\n",
       "      <td>3.800000e+07</td>\n",
       "      <td>8.361541e+07</td>\n",
       "      <td>107.000000</td>\n",
       "      <td>6.100000</td>\n",
       "      <td>2008.000000</td>\n",
       "    </tr>\n",
       "    <tr>\n",
       "      <th>75%</th>\n",
       "      <td>7.200000e+07</td>\n",
       "      <td>1.782626e+08</td>\n",
       "      <td>120.000000</td>\n",
       "      <td>6.600000</td>\n",
       "      <td>2012.000000</td>\n",
       "    </tr>\n",
       "    <tr>\n",
       "      <th>max</th>\n",
       "      <td>3.800000e+08</td>\n",
       "      <td>2.781506e+09</td>\n",
       "      <td>214.000000</td>\n",
       "      <td>8.100000</td>\n",
       "      <td>2015.000000</td>\n",
       "    </tr>\n",
       "  </tbody>\n",
       "</table>\n",
       "</div>"
      ],
      "text/plain": [
       "             budget       revenue      runtime  vote_average  release_year\n",
       "count  1.889000e+03  1.889000e+03  1889.000000   1889.000000   1889.000000\n",
       "mean   5.431083e+07  1.553653e+08   109.658549      6.140762   2007.860773\n",
       "std    4.858721e+07  2.146698e+08    18.017041      0.764763      4.468841\n",
       "min    5.000000e+06  2.033165e+06    63.000000      3.300000   2000.000000\n",
       "25%    2.000000e+07  3.456058e+07    97.000000      5.600000   2004.000000\n",
       "50%    3.800000e+07  8.361541e+07   107.000000      6.100000   2008.000000\n",
       "75%    7.200000e+07  1.782626e+08   120.000000      6.600000   2012.000000\n",
       "max    3.800000e+08  2.781506e+09   214.000000      8.100000   2015.000000"
      ]
     },
     "execution_count": 29,
     "metadata": {},
     "output_type": "execute_result"
    }
   ],
   "source": [
    "data.describe()"
   ]
  },
  {
   "cell_type": "code",
   "execution_count": 8,
   "metadata": {},
   "outputs": [],
   "source": [
    "answers['5'] = {'5. 107'}"
   ]
  },
  {
   "cell_type": "markdown",
   "metadata": {
    "colab_type": "text",
    "id": "39P-deDSVp-y"
   },
   "source": [
    "# 6. Какой самый прибыльный фильм?\n",
    "#### Внимание! Здесь и далее под «прибылью» или «убытками» понимается разность между сборами и бюджетом фильма. (прибыль = сборы - бюджет) в нашем датасете это будет (profit = revenue - budget) "
   ]
  },
  {
   "cell_type": "code",
   "execution_count": 33,
   "metadata": {
    "colab": {},
    "colab_type": "code",
    "id": "UYZh4T9WVp-y",
    "scrolled": true
   },
   "outputs": [
    {
     "data": {
      "text/html": [
       "<div>\n",
       "<style scoped>\n",
       "    .dataframe tbody tr th:only-of-type {\n",
       "        vertical-align: middle;\n",
       "    }\n",
       "\n",
       "    .dataframe tbody tr th {\n",
       "        vertical-align: top;\n",
       "    }\n",
       "\n",
       "    .dataframe thead th {\n",
       "        text-align: right;\n",
       "    }\n",
       "</style>\n",
       "<table border=\"1\" class=\"dataframe\">\n",
       "  <thead>\n",
       "    <tr style=\"text-align: right;\">\n",
       "      <th></th>\n",
       "      <th>imdb_id</th>\n",
       "      <th>budget</th>\n",
       "      <th>revenue</th>\n",
       "      <th>original_title</th>\n",
       "      <th>cast</th>\n",
       "      <th>director</th>\n",
       "      <th>tagline</th>\n",
       "      <th>overview</th>\n",
       "      <th>runtime</th>\n",
       "      <th>genres</th>\n",
       "      <th>production_companies</th>\n",
       "      <th>release_date</th>\n",
       "      <th>vote_average</th>\n",
       "      <th>release_year</th>\n",
       "      <th>profit</th>\n",
       "    </tr>\n",
       "  </thead>\n",
       "  <tbody>\n",
       "    <tr>\n",
       "      <th>239</th>\n",
       "      <td>tt0499549</td>\n",
       "      <td>237000000</td>\n",
       "      <td>2781505847</td>\n",
       "      <td>Avatar</td>\n",
       "      <td>Sam Worthington|Zoe Saldana|Sigourney Weaver|S...</td>\n",
       "      <td>James Cameron</td>\n",
       "      <td>Enter the World of Pandora.</td>\n",
       "      <td>In the 22nd century, a paraplegic Marine is di...</td>\n",
       "      <td>162</td>\n",
       "      <td>Action|Adventure|Fantasy|Science Fiction</td>\n",
       "      <td>Ingenious Film Partners|Twentieth Century Fox ...</td>\n",
       "      <td>12/10/2009</td>\n",
       "      <td>7.1</td>\n",
       "      <td>2009</td>\n",
       "      <td>2544505847</td>\n",
       "    </tr>\n",
       "  </tbody>\n",
       "</table>\n",
       "</div>"
      ],
      "text/plain": [
       "       imdb_id     budget     revenue original_title  \\\n",
       "239  tt0499549  237000000  2781505847         Avatar   \n",
       "\n",
       "                                                  cast       director  \\\n",
       "239  Sam Worthington|Zoe Saldana|Sigourney Weaver|S...  James Cameron   \n",
       "\n",
       "                         tagline  \\\n",
       "239  Enter the World of Pandora.   \n",
       "\n",
       "                                              overview  runtime  \\\n",
       "239  In the 22nd century, a paraplegic Marine is di...      162   \n",
       "\n",
       "                                       genres  \\\n",
       "239  Action|Adventure|Fantasy|Science Fiction   \n",
       "\n",
       "                                  production_companies release_date  \\\n",
       "239  Ingenious Film Partners|Twentieth Century Fox ...   12/10/2009   \n",
       "\n",
       "     vote_average  release_year      profit  \n",
       "239           7.1          2009  2544505847  "
      ]
     },
     "metadata": {},
     "output_type": "display_data"
    }
   ],
   "source": [
    "#вывод на экран строки датасета с максимальной прибылью фильма\n",
    "display(data[data.profit == data.profit.max()])"
   ]
  },
  {
   "cell_type": "code",
   "execution_count": 9,
   "metadata": {},
   "outputs": [],
   "source": [
    "answers['6'] = {'6. Avatar'}"
   ]
  },
  {
   "cell_type": "markdown",
   "metadata": {
    "colab_type": "text",
    "id": "M99JmIX4Vp-2"
   },
   "source": [
    "# 7. Какой фильм самый убыточный? "
   ]
  },
  {
   "cell_type": "code",
   "execution_count": 35,
   "metadata": {
    "colab": {},
    "colab_type": "code",
    "id": "w-D2m4XPVp-3"
   },
   "outputs": [
    {
     "data": {
      "text/html": [
       "<div>\n",
       "<style scoped>\n",
       "    .dataframe tbody tr th:only-of-type {\n",
       "        vertical-align: middle;\n",
       "    }\n",
       "\n",
       "    .dataframe tbody tr th {\n",
       "        vertical-align: top;\n",
       "    }\n",
       "\n",
       "    .dataframe thead th {\n",
       "        text-align: right;\n",
       "    }\n",
       "</style>\n",
       "<table border=\"1\" class=\"dataframe\">\n",
       "  <thead>\n",
       "    <tr style=\"text-align: right;\">\n",
       "      <th></th>\n",
       "      <th>imdb_id</th>\n",
       "      <th>budget</th>\n",
       "      <th>revenue</th>\n",
       "      <th>original_title</th>\n",
       "      <th>cast</th>\n",
       "      <th>director</th>\n",
       "      <th>tagline</th>\n",
       "      <th>overview</th>\n",
       "      <th>runtime</th>\n",
       "      <th>genres</th>\n",
       "      <th>production_companies</th>\n",
       "      <th>release_date</th>\n",
       "      <th>vote_average</th>\n",
       "      <th>release_year</th>\n",
       "      <th>profit</th>\n",
       "    </tr>\n",
       "  </thead>\n",
       "  <tbody>\n",
       "    <tr>\n",
       "      <th>1245</th>\n",
       "      <td>tt1210819</td>\n",
       "      <td>255000000</td>\n",
       "      <td>89289910</td>\n",
       "      <td>The Lone Ranger</td>\n",
       "      <td>Johnny Depp|Armie Hammer|William Fichtner|Hele...</td>\n",
       "      <td>Gore Verbinski</td>\n",
       "      <td>Never Take Off the Mask</td>\n",
       "      <td>The Texas Rangers chase down a gang of outlaws...</td>\n",
       "      <td>149</td>\n",
       "      <td>Action|Adventure|Western</td>\n",
       "      <td>Walt Disney Pictures|Jerry Bruckheimer Films|I...</td>\n",
       "      <td>7/3/2013</td>\n",
       "      <td>6.0</td>\n",
       "      <td>2013</td>\n",
       "      <td>-165710090</td>\n",
       "    </tr>\n",
       "  </tbody>\n",
       "</table>\n",
       "</div>"
      ],
      "text/plain": [
       "        imdb_id     budget   revenue   original_title  \\\n",
       "1245  tt1210819  255000000  89289910  The Lone Ranger   \n",
       "\n",
       "                                                   cast        director  \\\n",
       "1245  Johnny Depp|Armie Hammer|William Fichtner|Hele...  Gore Verbinski   \n",
       "\n",
       "                      tagline  \\\n",
       "1245  Never Take Off the Mask   \n",
       "\n",
       "                                               overview  runtime  \\\n",
       "1245  The Texas Rangers chase down a gang of outlaws...      149   \n",
       "\n",
       "                        genres  \\\n",
       "1245  Action|Adventure|Western   \n",
       "\n",
       "                                   production_companies release_date  \\\n",
       "1245  Walt Disney Pictures|Jerry Bruckheimer Films|I...     7/3/2013   \n",
       "\n",
       "      vote_average  release_year     profit  \n",
       "1245           6.0          2013 -165710090  "
      ]
     },
     "metadata": {},
     "output_type": "display_data"
    }
   ],
   "source": [
    "#вывод на экран строки датасета с минимальной прибылью фильма\n",
    "display(data[data.profit == data.profit.min()])"
   ]
  },
  {
   "cell_type": "code",
   "execution_count": 10,
   "metadata": {},
   "outputs": [],
   "source": [
    "answers['7'] = {'7. The Lone Ranger'}"
   ]
  },
  {
   "cell_type": "markdown",
   "metadata": {
    "colab_type": "text",
    "id": "wEOM5ERVVp-6"
   },
   "source": [
    "# 8. У скольких фильмов из датасета объем сборов оказался выше бюджета?"
   ]
  },
  {
   "cell_type": "code",
   "execution_count": 43,
   "metadata": {
    "colab": {},
    "colab_type": "code",
    "id": "y00_7HD6Vp-7"
   },
   "outputs": [
    {
     "name": "stdout",
     "output_type": "stream",
     "text": [
      "1478\n"
     ]
    }
   ],
   "source": [
    "#делаем срез из фильмов с положительной прибылью и выводим их количество\n",
    "movie_profit_count = data[data.profit > 0].imdb_id.count()\n",
    "#display(len(df))\n",
    "print(movie_profit_count)"
   ]
  },
  {
   "cell_type": "code",
   "execution_count": 11,
   "metadata": {},
   "outputs": [],
   "source": [
    "answers['8'] = {'8. 1478'}"
   ]
  },
  {
   "cell_type": "markdown",
   "metadata": {
    "colab_type": "text",
    "id": "xhpspA9KVp_A"
   },
   "source": [
    "# 9. Какой фильм оказался самым кассовым в 2008 году?"
   ]
  },
  {
   "cell_type": "code",
   "execution_count": 123,
   "metadata": {
    "colab": {},
    "colab_type": "code",
    "id": "MoUyQr9RVp_B"
   },
   "outputs": [
    {
     "data": {
      "text/html": [
       "<div>\n",
       "<style scoped>\n",
       "    .dataframe tbody tr th:only-of-type {\n",
       "        vertical-align: middle;\n",
       "    }\n",
       "\n",
       "    .dataframe tbody tr th {\n",
       "        vertical-align: top;\n",
       "    }\n",
       "\n",
       "    .dataframe thead th {\n",
       "        text-align: right;\n",
       "    }\n",
       "</style>\n",
       "<table border=\"1\" class=\"dataframe\">\n",
       "  <thead>\n",
       "    <tr style=\"text-align: right;\">\n",
       "      <th></th>\n",
       "      <th>imdb_id</th>\n",
       "      <th>budget</th>\n",
       "      <th>revenue</th>\n",
       "      <th>original_title</th>\n",
       "      <th>cast</th>\n",
       "      <th>director</th>\n",
       "      <th>tagline</th>\n",
       "      <th>overview</th>\n",
       "      <th>runtime</th>\n",
       "      <th>genres</th>\n",
       "      <th>production_companies</th>\n",
       "      <th>release_date</th>\n",
       "      <th>vote_average</th>\n",
       "      <th>release_year</th>\n",
       "      <th>profit</th>\n",
       "    </tr>\n",
       "  </thead>\n",
       "  <tbody>\n",
       "    <tr>\n",
       "      <th>599</th>\n",
       "      <td>tt0468569</td>\n",
       "      <td>185000000</td>\n",
       "      <td>1001921825</td>\n",
       "      <td>The Dark Knight</td>\n",
       "      <td>Christian Bale|Michael Caine|Heath Ledger|Aaro...</td>\n",
       "      <td>Christopher Nolan</td>\n",
       "      <td>Why So Serious?</td>\n",
       "      <td>Batman raises the stakes in his war on crime. ...</td>\n",
       "      <td>152</td>\n",
       "      <td>Drama|Action|Crime|Thriller</td>\n",
       "      <td>DC Comics|Legendary Pictures|Warner Bros.|Syncopy</td>\n",
       "      <td>7/16/2008</td>\n",
       "      <td>8.1</td>\n",
       "      <td>2008</td>\n",
       "      <td>816921825</td>\n",
       "    </tr>\n",
       "  </tbody>\n",
       "</table>\n",
       "</div>"
      ],
      "text/plain": [
       "       imdb_id     budget     revenue   original_title  \\\n",
       "599  tt0468569  185000000  1001921825  The Dark Knight   \n",
       "\n",
       "                                                  cast           director  \\\n",
       "599  Christian Bale|Michael Caine|Heath Ledger|Aaro...  Christopher Nolan   \n",
       "\n",
       "             tagline                                           overview  \\\n",
       "599  Why So Serious?  Batman raises the stakes in his war on crime. ...   \n",
       "\n",
       "     runtime                       genres  \\\n",
       "599      152  Drama|Action|Crime|Thriller   \n",
       "\n",
       "                                  production_companies release_date  \\\n",
       "599  DC Comics|Legendary Pictures|Warner Bros.|Syncopy    7/16/2008   \n",
       "\n",
       "     vote_average  release_year     profit  \n",
       "599           8.1          2008  816921825  "
      ]
     },
     "metadata": {},
     "output_type": "display_data"
    }
   ],
   "source": [
    "# Делаем срез из фильмов выпущенных в 2008 году и выводим строку среза с максимальной прибылью\n",
    "df_9 = data[data.release_year == 2008]\n",
    "display(df_9[df_9.profit == df_9.profit.max()])"
   ]
  },
  {
   "cell_type": "code",
   "execution_count": 12,
   "metadata": {},
   "outputs": [],
   "source": [
    "answers['9'] = {'9. The Dark Knight'}"
   ]
  },
  {
   "cell_type": "markdown",
   "metadata": {
    "colab_type": "text",
    "id": "Zi4hDKidVp_F"
   },
   "source": [
    "# 10. Самый убыточный фильм за период с 2012 по 2014 г. (включительно)?\n"
   ]
  },
  {
   "cell_type": "code",
   "execution_count": 75,
   "metadata": {
    "colab": {},
    "colab_type": "code",
    "id": "XqyRmufJVp_F",
    "scrolled": true
   },
   "outputs": [
    {
     "data": {
      "text/html": [
       "<div>\n",
       "<style scoped>\n",
       "    .dataframe tbody tr th:only-of-type {\n",
       "        vertical-align: middle;\n",
       "    }\n",
       "\n",
       "    .dataframe tbody tr th {\n",
       "        vertical-align: top;\n",
       "    }\n",
       "\n",
       "    .dataframe thead th {\n",
       "        text-align: right;\n",
       "    }\n",
       "</style>\n",
       "<table border=\"1\" class=\"dataframe\">\n",
       "  <thead>\n",
       "    <tr style=\"text-align: right;\">\n",
       "      <th></th>\n",
       "      <th>imdb_id</th>\n",
       "      <th>budget</th>\n",
       "      <th>revenue</th>\n",
       "      <th>original_title</th>\n",
       "      <th>cast</th>\n",
       "      <th>director</th>\n",
       "      <th>tagline</th>\n",
       "      <th>overview</th>\n",
       "      <th>runtime</th>\n",
       "      <th>genres</th>\n",
       "      <th>production_companies</th>\n",
       "      <th>release_date</th>\n",
       "      <th>vote_average</th>\n",
       "      <th>release_year</th>\n",
       "      <th>profit</th>\n",
       "    </tr>\n",
       "  </thead>\n",
       "  <tbody>\n",
       "    <tr>\n",
       "      <th>1245</th>\n",
       "      <td>tt1210819</td>\n",
       "      <td>255000000</td>\n",
       "      <td>89289910</td>\n",
       "      <td>The Lone Ranger</td>\n",
       "      <td>Johnny Depp|Armie Hammer|William Fichtner|Hele...</td>\n",
       "      <td>Gore Verbinski</td>\n",
       "      <td>Never Take Off the Mask</td>\n",
       "      <td>The Texas Rangers chase down a gang of outlaws...</td>\n",
       "      <td>149</td>\n",
       "      <td>Action|Adventure|Western</td>\n",
       "      <td>Walt Disney Pictures|Jerry Bruckheimer Films|I...</td>\n",
       "      <td>7/3/2013</td>\n",
       "      <td>6.0</td>\n",
       "      <td>2013</td>\n",
       "      <td>-165710090</td>\n",
       "    </tr>\n",
       "  </tbody>\n",
       "</table>\n",
       "</div>"
      ],
      "text/plain": [
       "        imdb_id     budget   revenue   original_title  \\\n",
       "1245  tt1210819  255000000  89289910  The Lone Ranger   \n",
       "\n",
       "                                                   cast        director  \\\n",
       "1245  Johnny Depp|Armie Hammer|William Fichtner|Hele...  Gore Verbinski   \n",
       "\n",
       "                      tagline  \\\n",
       "1245  Never Take Off the Mask   \n",
       "\n",
       "                                               overview  runtime  \\\n",
       "1245  The Texas Rangers chase down a gang of outlaws...      149   \n",
       "\n",
       "                        genres  \\\n",
       "1245  Action|Adventure|Western   \n",
       "\n",
       "                                   production_companies release_date  \\\n",
       "1245  Walt Disney Pictures|Jerry Bruckheimer Films|I...     7/3/2013   \n",
       "\n",
       "      vote_average  release_year     profit  \n",
       "1245           6.0          2013 -165710090  "
      ]
     },
     "metadata": {},
     "output_type": "display_data"
    }
   ],
   "source": [
    "# Делаем срез из фильмов выпущенных в 2012-2014 годах и выводим строку среза с максимальной отрицательной прибылью\n",
    "df = data[(data.release_year >= 2012) & (data.release_year <= 2014)]\n",
    "display(df[df.profit == df.profit.min()])"
   ]
  },
  {
   "cell_type": "code",
   "execution_count": 13,
   "metadata": {},
   "outputs": [],
   "source": [
    "answers['10'] = {'10. The Lone Ranger'}"
   ]
  },
  {
   "cell_type": "markdown",
   "metadata": {
    "colab_type": "text",
    "id": "EA7Sa9dkVp_I"
   },
   "source": [
    "# 11. Какого жанра фильмов больше всего?"
   ]
  },
  {
   "cell_type": "code",
   "execution_count": 91,
   "metadata": {},
   "outputs": [
    {
     "data": {
      "text/plain": [
       "Drama              782\n",
       "Comedy             683\n",
       "Thriller           596\n",
       "Action             582\n",
       "Adventure          415\n",
       "Crime              315\n",
       "Romance            308\n",
       "Family             260\n",
       "Science Fiction    248\n",
       "Fantasy            222\n",
       "Horror             176\n",
       "Mystery            168\n",
       "Animation          139\n",
       "Music               64\n",
       "History             62\n",
       "War                 58\n",
       "Western             19\n",
       "Documentary          8\n",
       "Foreign              2\n",
       "Name: genres, dtype: int64"
      ]
     },
     "metadata": {},
     "output_type": "display_data"
    }
   ],
   "source": [
    "# Копируем датасет\n",
    "df_11 = data.copy()\n",
    "#создаем список из строки с жанрами, может быть несколько жанров в одной строке\n",
    "df_11.genres = df_11.genres.str.split('|')\n",
    "# с помощью функции explode преобразуем датасет в серию таким образом чтобы в каждой строке присутсвовал только один жанр \n",
    "df_11 = df_11.genres.explode()\n",
    "# с помощью функции value_counts подсчитываем количество по каждому отдельно взятому жанру\n",
    "display(df_11.value_counts())"
   ]
  },
  {
   "cell_type": "code",
   "execution_count": 14,
   "metadata": {},
   "outputs": [],
   "source": [
    "answers['11'] = {'11. Drama'}"
   ]
  },
  {
   "cell_type": "markdown",
   "metadata": {
    "colab_type": "text",
    "id": "Ax6g2C8SVp_M"
   },
   "source": [
    "ВАРИАНТ 2"
   ]
  },
  {
   "cell_type": "markdown",
   "metadata": {
    "colab_type": "text",
    "id": "T9_bPWpkVp_Q"
   },
   "source": [
    "# 12. Фильмы какого жанра чаще всего становятся прибыльными? "
   ]
  },
  {
   "cell_type": "code",
   "execution_count": 197,
   "metadata": {},
   "outputs": [
    {
     "data": {
      "text/plain": [
       "Drama              560\n",
       "Comedy             551\n",
       "Thriller           446\n",
       "Action             444\n",
       "Adventure          337\n",
       "Romance            242\n",
       "Crime              231\n",
       "Family             226\n",
       "Science Fiction    195\n",
       "Fantasy            188\n",
       "Horror             150\n",
       "Animation          120\n",
       "Mystery            119\n",
       "Music               47\n",
       "History             46\n",
       "War                 41\n",
       "Western             12\n",
       "Documentary          7\n",
       "Name: genres, dtype: int64"
      ]
     },
     "metadata": {},
     "output_type": "display_data"
    }
   ],
   "source": [
    "# Копируем датасет\n",
    "df_12 = data.copy()\n",
    "# Делаем срез из фильмов с положительной прибылью\n",
    "df_12 = df_12[df_12.profit > 0]\n",
    "#создаем список из строки с жанрами, может быть несколько жанров в одной строке\n",
    "df_12.genres = df_12.genres.str.split('|')\n",
    "# с помощью функции explode преобразуем датасет в серию таким образом чтобы в каждой строке присутсвовал только один жанр\n",
    "df_12 = df_12.genres.explode()\n",
    "# с помощью функции value_counts подсчитываем количество по каждому отдельно взятому жанру\n",
    "display(df_12.value_counts())"
   ]
  },
  {
   "cell_type": "code",
   "execution_count": 36,
   "metadata": {},
   "outputs": [],
   "source": [
    "answers['12'] = {'12. Drama'}"
   ]
  },
  {
   "cell_type": "markdown",
   "metadata": {
    "colab_type": "text",
    "id": "0F23bgsDVp_U"
   },
   "source": [
    "# 13. У какого режиссера самые большие суммарные кассовые сборы?"
   ]
  },
  {
   "cell_type": "code",
   "execution_count": 199,
   "metadata": {
    "colab": {},
    "colab_type": "code",
    "id": "K6Z3J8ygVp_X"
   },
   "outputs": [
    {
     "data": {
      "text/plain": [
       "director\n",
       "Peter Jackson        6490593685\n",
       "Christopher Nolan    4167548502\n",
       "David Yates          4154295625\n",
       "Michael Bay          3886938960\n",
       "J.J. Abrams          3579169916\n",
       "Name: revenue, dtype: int64"
      ]
     },
     "metadata": {},
     "output_type": "display_data"
    }
   ],
   "source": [
    "# Копируем датасет\n",
    "df_13 = data.copy()\n",
    "#создаем список из строки с режисерами, может быть несколько режисеров в одной строке\n",
    "df_13.director = df_13.director.str.split('|')\n",
    "# с помощью функции explode преобразуем датасет таким образом чтобы в каждой строке присутсвовал только один режисер\n",
    "df_13 = df_13.explode('director')\n",
    "# с помощью функции groupby по каждому режисеру высчитываем сумму всех кассовых сборов и сортируем по возрастанию\n",
    "grouped_df_13 = df_13.groupby(['director'])['revenue'].sum().sort_values(ascending = False)\n",
    "display(grouped_df_13.head(5))"
   ]
  },
  {
   "cell_type": "code",
   "execution_count": 59,
   "metadata": {},
   "outputs": [],
   "source": [
    "answers['13'] = {'13. Peter Jackson'}"
   ]
  },
  {
   "cell_type": "markdown",
   "metadata": {
    "colab_type": "text",
    "id": "PsYC9FgRVp_a"
   },
   "source": [
    "# 14. Какой режисер снял больше всего фильмов в стиле Action?"
   ]
  },
  {
   "cell_type": "code",
   "execution_count": 64,
   "metadata": {
    "colab": {},
    "colab_type": "code",
    "id": "wd2M-wHeVp_b"
   },
   "outputs": [
    {
     "data": {
      "text/plain": [
       "Robert Rodriguez      9\n",
       "Michael Bay           7\n",
       "Paul W.S. Anderson    7\n",
       "Ridley Scott          6\n",
       "Antoine Fuqua         6\n",
       "                     ..\n",
       "Ron Underwood         1\n",
       "Joseph Kahn           1\n",
       "Antony Hoffman        1\n",
       "Joe Cornish           1\n",
       "Danny Pang            1\n",
       "Name: director, Length: 364, dtype: int64"
      ]
     },
     "execution_count": 64,
     "metadata": {},
     "output_type": "execute_result"
    }
   ],
   "source": [
    "# Копируем датасет\n",
    "df_14 = data.copy()\n",
    "#создаем список из строки с режисерами, может быть несколько режисеров в одной строке\n",
    "df_14.director = df_14.director.str.split('|')\n",
    "# с помощью функции explode преобразуем датасет таким образом чтобы в каждой строке присутсвовал только один режисер\n",
    "df_14 = df_14.explode('director')\n",
    "# делаем срез из преобразованного датасета только тех строк в жанре которых присутствует Action\n",
    "df_best_action_director = df_14[df_14.genres.str.contains('Action', na=False)]\n",
    "# с помощью функции value_counts подсчитываем количество фильмов по каждому отдельно взятому жанру\n",
    "df_best_action_director.director.value_counts()"
   ]
  },
  {
   "cell_type": "code",
   "execution_count": 65,
   "metadata": {},
   "outputs": [],
   "source": [
    "answers['14'] = {'14. Robert Rodriguez'}"
   ]
  },
  {
   "cell_type": "markdown",
   "metadata": {
    "colab_type": "text",
    "id": "PQ0KciD7Vp_f"
   },
   "source": [
    "# 15. Фильмы с каким актером принесли самые высокие кассовые сборы в 2012 году? "
   ]
  },
  {
   "cell_type": "code",
   "execution_count": 119,
   "metadata": {
    "colab": {},
    "colab_type": "code",
    "id": "aga62oeKVp_g"
   },
   "outputs": [
    {
     "data": {
      "text/plain": [
       "cast\n",
       "Chris Hemsworth      2027450773\n",
       "Denis Leary          1629460639\n",
       "Anne Hathaway        1522851057\n",
       "Chris Evans          1519557910\n",
       "Robert Downey Jr.    1519557910\n",
       "Name: revenue, dtype: int64"
      ]
     },
     "execution_count": 119,
     "metadata": {},
     "output_type": "execute_result"
    }
   ],
   "source": [
    "# Копируем датасет\n",
    "df_15 = data.copy()\n",
    "#создаем список из строки с актерами, может быть несколько актеров в одной строке\n",
    "df_15.cast = df_15.cast.str.split('|')\n",
    "# с помощью функции explode преобразуем датасет таким образом чтобы в каждой строке присутсвовал только один актер\n",
    "df_15 = df_15.explode('cast')\n",
    "# делаем выборку по фильмам выпущенным в 2012 году\n",
    "df_15_2012 = df_15[df_15.release_year == 2012]\n",
    "# с помощью функции groupby по каждому актеру высчитываем сумму всех кассовых сборов и сортируем по возрастанию\n",
    "grouped_df_15_2012 = df_15_2012.groupby(['cast'])['revenue'].sum().sort_values(ascending = False)\n",
    "grouped_df_15_2012.head()"
   ]
  },
  {
   "cell_type": "code",
   "execution_count": 75,
   "metadata": {},
   "outputs": [],
   "source": [
    "answers['15'] = {'15. Chris Hemsworth'}"
   ]
  },
  {
   "cell_type": "markdown",
   "metadata": {
    "colab_type": "text",
    "id": "mWHyyL7QVp_j"
   },
   "source": [
    "# 16. Какой актер снялся в большем количестве высокобюджетных фильмов?"
   ]
  },
  {
   "cell_type": "code",
   "execution_count": 83,
   "metadata": {
    "colab": {},
    "colab_type": "code",
    "id": "qQtmHKTFVp_k"
   },
   "outputs": [
    {
     "data": {
      "text/plain": [
       "Matt Damon              18\n",
       "Adam Sandler            17\n",
       "Angelina Jolie          16\n",
       "Samuel L. Jackson       15\n",
       "Tom Cruise              15\n",
       "                        ..\n",
       "Linda Cardellini         1\n",
       "Shaun Toub               1\n",
       "Kaya Scodelario          1\n",
       "Susanna Thompson         1\n",
       "Dakota Blue Richards     1\n",
       "Name: cast, Length: 1505, dtype: int64"
      ]
     },
     "execution_count": 83,
     "metadata": {},
     "output_type": "execute_result"
    }
   ],
   "source": [
    "# Копируем датасет\n",
    "df_16 = data.copy()\n",
    "#создаем список из строки с актерами, может быть несколько актеров в одной строке\n",
    "df_16.cast = df_16.cast.str.split('|')\n",
    "# с помощью функции explode преобразуем датасет таким образом чтобы в каждой строке присутсвовал только один актер\n",
    "df_16 = df_16.explode('cast')\n",
    "# делаем выборку по фильмам с бюджетом выше среднего\n",
    "df_16_high_budget = df_16[df_16.budget > df_16.budget.mean()]\n",
    "# с помощью функции value_counts по каждому актеру высчитываем количество фильмов с бюджетом выше среднего\n",
    "df_16_high_budget.cast.value_counts()"
   ]
  },
  {
   "cell_type": "code",
   "execution_count": 82,
   "metadata": {},
   "outputs": [],
   "source": [
    "answers['16'] = {'16. Matt Damon'}"
   ]
  },
  {
   "cell_type": "markdown",
   "metadata": {
    "colab_type": "text",
    "id": "NIh6AaW5Vp_n"
   },
   "source": [
    "# 17. В фильмах какого жанра больше всего снимался Nicolas Cage? "
   ]
  },
  {
   "cell_type": "code",
   "execution_count": 92,
   "metadata": {
    "colab": {},
    "colab_type": "code",
    "id": "H74SJDIBVp_n"
   },
   "outputs": [
    {
     "data": {
      "text/plain": [
       "Action             17\n",
       "Thriller           15\n",
       "Drama              12\n",
       "Crime              10\n",
       "Fantasy             8\n",
       "Adventure           7\n",
       "Comedy              6\n",
       "Science Fiction     4\n",
       "Animation           3\n",
       "Mystery             3\n",
       "Family              3\n",
       "History             2\n",
       "Horror              1\n",
       "Romance             1\n",
       "War                 1\n",
       "Name: genres, dtype: int64"
      ]
     },
     "execution_count": 92,
     "metadata": {},
     "output_type": "execute_result"
    }
   ],
   "source": [
    "# Копируем датасет\n",
    "df_17 = data.copy()\n",
    "#создаем список из строки с актерами, может быть несколько актеров в одной строке\n",
    "df_17.cast = df_17.cast.str.split('|')\n",
    "#создаем список из строки с жанрами, может быть несколько жанров в одной строке\n",
    "df_17.genres = df_17.genres.str.split('|')\n",
    "# с помощью функции explode преобразуем датасет таким образом чтобы в каждой строке присутсвовал только один актер\n",
    "df_17 = df_17.explode('cast')\n",
    "# с помощью функции explode преобразуем датасет в серию таким образом чтобы в каждой строке присутсвовал только один жанр\n",
    "df_17 = df_17.explode('genres')\n",
    "# делаем выборку по фильмам в котоых снимался Nicolas Cage\n",
    "df_17_cage_film = df_17[df_17.cast == 'Nicolas Cage']\n",
    "# с помощью функции value_counts по каждому жанру считаем количество фильмов\n",
    "df_17_cage_film.genres.value_counts()"
   ]
  },
  {
   "cell_type": "code",
   "execution_count": 91,
   "metadata": {},
   "outputs": [],
   "source": [
    "answers['17'] = {'17. Action'}"
   ]
  },
  {
   "cell_type": "markdown",
   "metadata": {
    "colab_type": "text",
    "id": "RqOmPRfWVp_q"
   },
   "source": [
    "# 18. Самый убыточный фильм от Paramount Pictures"
   ]
  },
  {
   "cell_type": "code",
   "execution_count": 114,
   "metadata": {
    "colab": {},
    "colab_type": "code",
    "id": "9E_B0Y96Vp_r"
   },
   "outputs": [
    {
     "data": {
      "text/plain": [
       "925    K-19: The Widowmaker\n",
       "Name: original_title, dtype: object"
      ]
     },
     "execution_count": 114,
     "metadata": {},
     "output_type": "execute_result"
    }
   ],
   "source": [
    "# Копируем датасет\n",
    "df_18 = data.copy()\n",
    "#создаем список из строки с компаниями-производителями, может быть несколько компаний-производителей в одной строке\n",
    "df_18.production_companies = df_18.production_companies.str.split('|')\n",
    "# с помощью функции explode преобразуем датасет таким образом чтобы в каждой строке присутсвовал только одна компания\n",
    "df_18 = df_18.explode('production_companies')\n",
    "# делаем выборку по фильмам снятых компанией Paramount Pictures \n",
    "df_18_paramount_films = df_18[df_18.production_companies == 'Paramount Pictures']\n",
    "# выводим название фильма с максимально отрицательной прибылью\n",
    "df_18_paramount_films[df_18_paramount_films.profit == df_18_paramount_films.profit.min()].original_title"
   ]
  },
  {
   "cell_type": "code",
   "execution_count": 108,
   "metadata": {},
   "outputs": [],
   "source": [
    "answers['18'] = {'18. K-19: The Widowmaker'}"
   ]
  },
  {
   "cell_type": "markdown",
   "metadata": {
    "colab_type": "text",
    "id": "vS8Ur6ddVp_u"
   },
   "source": [
    "# 19. Какой год стал самым успешным по суммарным кассовым сборам?"
   ]
  },
  {
   "cell_type": "code",
   "execution_count": 112,
   "metadata": {
    "colab": {},
    "colab_type": "code",
    "id": "Dnbt4GdIVp_v"
   },
   "outputs": [
    {
     "data": {
      "text/plain": [
       "release_year\n",
       "2015    25449202382\n",
       "2014    23405862953\n",
       "2013    23213799791\n",
       "2012    23079001687\n",
       "2011    22676791872\n",
       "Name: revenue, dtype: int64"
      ]
     },
     "execution_count": 112,
     "metadata": {},
     "output_type": "execute_result"
    }
   ],
   "source": [
    "# с помощью функции groupby по каждому году выпуска высчитываем сумму всех кассовых сборов и сортируем по возрастанию\n",
    "df_19 = data.groupby(['release_year'])['revenue'].sum().sort_values(ascending=False)\n",
    "df_19.head()"
   ]
  },
  {
   "cell_type": "code",
   "execution_count": 113,
   "metadata": {},
   "outputs": [],
   "source": [
    "answers['19'] = {'19. 2015'}"
   ]
  },
  {
   "cell_type": "markdown",
   "metadata": {
    "colab_type": "text",
    "id": "JAzJh4QAVp_z"
   },
   "source": [
    "# 20. Какой самый прибыльный год для студии Warner Bros?"
   ]
  },
  {
   "cell_type": "code",
   "execution_count": 121,
   "metadata": {
    "colab": {},
    "colab_type": "code",
    "id": "wgVu02DEVp_0"
   },
   "outputs": [
    {
     "data": {
      "text/plain": [
       "release_year\n",
       "2014    3243064519\n",
       "2007    3183675217\n",
       "2008    3050595031\n",
       "2010    3008712985\n",
       "2011    2845393682\n",
       "Name: revenue, dtype: int64"
      ]
     },
     "execution_count": 121,
     "metadata": {},
     "output_type": "execute_result"
    }
   ],
   "source": [
    "# делаем выборку по фильмам снятых студиями в названии которых присутствует Warner Bros\n",
    "df_20 = data[data.production_companies.str.contains(\"Warner Bros\", na=False)]\n",
    "# с помощью функции groupby по каждому году выпуска высчитываем сумму всех кассовых сборов и сортируем по возрастанию\n",
    "df_20 = df_20.groupby(['release_year'])['revenue'].sum().sort_values(ascending=False)\n",
    "df_20.head()"
   ]
  },
  {
   "cell_type": "code",
   "execution_count": 122,
   "metadata": {},
   "outputs": [],
   "source": [
    "answers['20'] = {'20. 2014'}"
   ]
  },
  {
   "cell_type": "markdown",
   "metadata": {
    "colab_type": "text",
    "id": "8Im1S2HRVp_4"
   },
   "source": [
    "# 21. В каком месяце за все годы суммарно вышло больше всего фильмов?"
   ]
  },
  {
   "cell_type": "code",
   "execution_count": 201,
   "metadata": {
    "colab": {},
    "colab_type": "code",
    "id": "lev6TH7gVp_4"
   },
   "outputs": [
    {
     "data": {
      "text/plain": [
       "9     227\n",
       "12    190\n",
       "10    186\n",
       "8     161\n",
       "3     156\n",
       "4     149\n",
       "6     147\n",
       "11    146\n",
       "7     142\n",
       "5     140\n",
       "2     135\n",
       "1     110\n",
       "Name: release_date, dtype: int64"
      ]
     },
     "execution_count": 201,
     "metadata": {},
     "output_type": "execute_result"
    }
   ],
   "source": [
    "# Копируем столбец с датой релиза в серию\n",
    "df_21 = data[['release_date']].copy()\n",
    "# в серии с помощью фунции DatetimeIndex заменяем значения в столбце с датой релиза на месяц релиза\n",
    "df_21.release_date = pd.DatetimeIndex(df_21.release_date).month\n",
    "# # с помощью функции value_counts по каждому месяцу подсчитываем количество вхождений(то есть релизов)\n",
    "df_21.release_date.value_counts()"
   ]
  },
  {
   "cell_type": "code",
   "execution_count": 125,
   "metadata": {},
   "outputs": [],
   "source": [
    "answers['21'] = {'21. Сентябрь'}"
   ]
  },
  {
   "cell_type": "markdown",
   "metadata": {
    "colab_type": "text",
    "id": "uAJsZ_NeVp_7"
   },
   "source": [
    "# 22. Сколько суммарно вышло фильмов летом? (за июнь, июль, август)"
   ]
  },
  {
   "cell_type": "code",
   "execution_count": 187,
   "metadata": {
    "colab": {},
    "colab_type": "code",
    "id": "Aa-hEREoVp_8"
   },
   "outputs": [
    {
     "data": {
      "text/plain": [
       "450"
      ]
     },
     "execution_count": 187,
     "metadata": {},
     "output_type": "execute_result"
    }
   ],
   "source": [
    "# Копируем столбец с датой релиза в серию\n",
    "df_22 = data[['release_date']].copy()\n",
    "# в серии с помощью фунции DatetimeIndex заменяем значения в столбце с датой релиза на месяц релиза\n",
    "df_22.release_date = pd.DatetimeIndex(df_22.release_date).month\n",
    "# делаем выборку только по летним месяцам\n",
    "df_22_summer = df_22[(df_22.release_date > 5) & (df_22.release_date < 9)]\n",
    "# выводим длину серии с летними месяцами релизов\n",
    "len(df_22_summer)"
   ]
  },
  {
   "cell_type": "code",
   "execution_count": 128,
   "metadata": {
    "colab": {},
    "colab_type": "code",
    "id": "RhNTsamuVqAB"
   },
   "outputs": [],
   "source": [
    "answers['22'] = {'22. 450'}"
   ]
  },
  {
   "cell_type": "markdown",
   "metadata": {
    "colab_type": "text",
    "id": "G94ppOY1VqAA"
   },
   "source": [
    "# 23. Для какого режиссера зима – самое продуктивное время года? "
   ]
  },
  {
   "cell_type": "code",
   "execution_count": 133,
   "metadata": {},
   "outputs": [
    {
     "data": {
      "text/plain": [
       "0    Peter Jackson\n",
       "dtype: object"
      ]
     },
     "execution_count": 133,
     "metadata": {},
     "output_type": "execute_result"
    }
   ],
   "source": [
    "# Копируем датасет в датасет содержащий только столбцы с режисерами и датами релизов\n",
    "df_23 = data[['director','release_date']].copy()\n",
    "#создаем список из строки с режисерами, может быть несколько режисеров в одной строке\n",
    "df_23.director = df_23.director.str.split('|')\n",
    "# с помощью функции explode преобразуем датасет таким образом чтобы в каждой строке присутсвовал только один режисер\n",
    "df_23 = df_23.explode('director')\n",
    "# в серии с помощью фунции DatetimeIndex заменяем значения в столбце с датой релиза на месяц релиза\n",
    "df_23.release_date = pd.DatetimeIndex(df_23.release_date).month\n",
    "# делаем выборку только по зимним месяцам\n",
    "df_23_winter_release = df_23[(df_23.release_date == 12) | (df_23.release_date <= 2)]\n",
    "# с помощью функции mode выводим наиболее часто встречающегося режисера в серии зимних релизов\n",
    "df_23_winter_release.director.mode()"
   ]
  },
  {
   "cell_type": "code",
   "execution_count": 134,
   "metadata": {},
   "outputs": [],
   "source": [
    "answers['23'] = {'23. Peter Jackson'}"
   ]
  },
  {
   "cell_type": "markdown",
   "metadata": {
    "colab_type": "text",
    "id": "RBo0JVjVVqAF"
   },
   "source": [
    "# 24. Какая студия дает самые длинные названия своим фильмам по количеству символов?"
   ]
  },
  {
   "cell_type": "code",
   "execution_count": 186,
   "metadata": {
    "colab": {},
    "colab_type": "code",
    "id": "QRGS8L0iVqAG"
   },
   "outputs": [
    {
     "data": {
      "text/plain": [
       "production_companies\n",
       "Four By Two Productions       83.0\n",
       "Jim Henson Company, The       59.0\n",
       "Dos Corazones                 47.0\n",
       "Museum Canada Productions     46.0\n",
       "Polsky Films                  46.0\n",
       "                              ... \n",
       "Everest Entertainment          3.0\n",
       "Berlanti Productions           3.0\n",
       "XM2 Productions                2.0\n",
       "Ixtlan Productions             2.0\n",
       "Global Entertainment Group     2.0\n",
       "Name: title_lenght, Length: 1771, dtype: float64"
      ]
     },
     "metadata": {},
     "output_type": "display_data"
    }
   ],
   "source": [
    "# Копируем датасет в датасет содержащий только столбцы с названиями фильмов и компаниями-производителями\n",
    "df_24 = data[['original_title','production_companies']].copy()\n",
    "# в скопированный датасет добавляем столбец title_lenght, содержащий длину названий фильмов по количеству символов\n",
    "df_24['title_lenght'] = df_24['original_title'].str.len()\n",
    "#создаем список из строки с компаниями-производителями, может быть несколько компаний-производителей в одной строке\n",
    "df_24.production_companies = df_24.production_companies.str.split('|')\n",
    "# с помощью функции explode преобразуем датасет таким образом чтобы в каждой строке присутсвовал только одна компания\n",
    "df_24 = df_24.explode('production_companies')\n",
    "# с помощью функции groupby по каждой компании высчитываем среднюю длину названий фильмов и сортируем по возрастанию\n",
    "display(df_24.groupby('production_companies')['title_lenght'].mean().sort_values(ascending = False))"
   ]
  },
  {
   "cell_type": "code",
   "execution_count": 140,
   "metadata": {},
   "outputs": [],
   "source": [
    "answers['24'] = {'24. Universal Pictures'}"
   ]
  },
  {
   "cell_type": "markdown",
   "metadata": {
    "colab_type": "text",
    "id": "9G0hbvR7VqAK"
   },
   "source": [
    "# 25. Описание фильмов какой студии в среднем самые длинные по количеству слов?"
   ]
  },
  {
   "cell_type": "code",
   "execution_count": 157,
   "metadata": {
    "colab": {},
    "colab_type": "code",
    "id": "Ge2GsLNxVqAK"
   },
   "outputs": [
    {
     "data": {
      "text/plain": [
       "production_companies\n",
       "Midnight Picture Show                    175.0\n",
       "Room 9 Entertainment                     161.0\n",
       "Heineken Branded Entertainment           161.0\n",
       "98 MPH Productions                       159.0\n",
       "Brookwell-McNamara Entertainment         156.0\n",
       "                                         ...  \n",
       "London Boulevard                          13.0\n",
       "Phantom Four                              13.0\n",
       "Henceforth                                13.0\n",
       "Empire Pictures                           11.0\n",
       "Motion Picture Corporation of America     11.0\n",
       "Name: overview_lenght, Length: 1771, dtype: float64"
      ]
     },
     "metadata": {},
     "output_type": "display_data"
    }
   ],
   "source": [
    "# Копируем датасет в датасет содержащий только столбцы с описанием фильмов и компаниями-производителями\n",
    "df_25 = data[['overview','production_companies']].copy()\n",
    "# в скопированный датасет добавляем столбец overview_lenght, содержащий длину названий фильмов по количеству слов\n",
    "df_25['overview_lenght'] = df_25['overview'].str.split(' ').str.len()\n",
    "#создаем список из строки с компаниями-производителями, может быть несколько компаний-производителей в одной строке\n",
    "df_25.production_companies = df_25.production_companies.str.split('|')\n",
    "# с помощью функции explode преобразуем датасет таким образом чтобы в каждой строке присутсвовал только одна компания\n",
    "df_25 = df_25.explode('production_companies')\n",
    "# с помощью функции groupby по каждой компании высчитываем среднее количество слов в описании фильмов и сортируем по возрастанию\n",
    "display(df_25.groupby('production_companies')['overview_lenght'].mean().sort_values(ascending = False))\n"
   ]
  },
  {
   "cell_type": "code",
   "execution_count": 158,
   "metadata": {},
   "outputs": [],
   "source": [
    "answers['25'] = {'25. Midnight Picture Show'}"
   ]
  },
  {
   "cell_type": "markdown",
   "metadata": {
    "colab_type": "text",
    "id": "FJ1AFt90VqAP"
   },
   "source": [
    "# 26. Какие фильмы входят в 1 процент лучших по рейтингу? \n",
    "по vote_average"
   ]
  },
  {
   "cell_type": "code",
   "execution_count": 160,
   "metadata": {
    "colab": {},
    "colab_type": "code",
    "id": "8qmJVq4CVqAQ"
   },
   "outputs": [
    {
     "data": {
      "text/plain": [
       "9                                          Inside Out\n",
       "34                                               Room\n",
       "118                                      Interstellar\n",
       "119                           Guardians of the Galaxy\n",
       "125                                The Imitation Game\n",
       "128                                         Gone Girl\n",
       "138                          The Grand Budapest Hotel\n",
       "370                                         Inception\n",
       "599                                   The Dark Knight\n",
       "872                                       The Pianist\n",
       "1081    The Lord of the Rings: The Return of the King\n",
       "1183                          The Wolf of Wall Street\n",
       "1191                                 12 Years a Slave\n",
       "1800                                          Memento\n",
       "Name: original_title, dtype: object"
      ]
     },
     "metadata": {},
     "output_type": "display_data"
    }
   ],
   "source": [
    "# выводим названия фильмов входящих в 1 процент лучших по рейтингу с использованием \n",
    "# функции percentile из библиотеки Numpy\n",
    "display(data.loc[(data['vote_average'] > np.percentile(data['vote_average'],99))].original_title)"
   ]
  },
  {
   "cell_type": "code",
   "execution_count": 204,
   "metadata": {},
   "outputs": [],
   "source": [
    "answers['26'] = {'26. Inside Out, The Dark Knight, 12 Years a Slave'}"
   ]
  },
  {
   "cell_type": "markdown",
   "metadata": {
    "colab_type": "text",
    "id": "MdXsUXbCVqAV"
   },
   "source": [
    "# 27. Какие актеры чаще всего снимаются в одном фильме вместе?\n"
   ]
  },
  {
   "cell_type": "code",
   "execution_count": 185,
   "metadata": {},
   "outputs": [
    {
     "data": {
      "text/plain": [
       "0     (Daniel Radcliffe, Emma Watson)\n",
       "1    (Daniel Radcliffe, Rupert Grint)\n",
       "2         (Emma Watson, Rupert Grint)\n",
       "dtype: object"
      ]
     },
     "execution_count": 185,
     "metadata": {},
     "output_type": "execute_result"
    }
   ],
   "source": [
    "import itertools as it\n",
    "\n",
    "\n",
    "df_27 = data[['cast']].copy()\n",
    "df_27.cast = df_27.cast.str.split('|')\n",
    "df_27.cast = df_27.cast.apply(lambda x: list(it.combinations(sorted(x), 2))) \n",
    "df_27.explode('cast').cast.mode()"
   ]
  },
  {
   "cell_type": "code",
   "execution_count": 202,
   "metadata": {},
   "outputs": [],
   "source": [
    "answers['27'] = {'27. Daniel Radcliffe, Rupert Grint'}"
   ]
  }
 ],
 "metadata": {
  "colab": {
   "name": "Copy of [SF-DST] Movies IMBD v4.1 TEMPLATE.ipynb",
   "provenance": []
  },
  "kernelspec": {
   "display_name": "Python 3",
   "language": "python",
   "name": "python3"
  },
  "language_info": {
   "codemirror_mode": {
    "name": "ipython",
    "version": 3
   },
   "file_extension": ".py",
   "mimetype": "text/x-python",
   "name": "python",
   "nbconvert_exporter": "python",
   "pygments_lexer": "ipython3",
   "version": "3.8.5"
  }
 },
 "nbformat": 4,
 "nbformat_minor": 1
}
